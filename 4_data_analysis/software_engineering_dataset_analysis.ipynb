{
 "cells": [
  {
   "cell_type": "markdown",
   "id": "3281f3ce",
   "metadata": {},
   "source": [
    "# Data Analysis: Software Engineer Earnings\n",
    "\n",
    "This notebook performs inferential and statistical analysis to address the research question:\n",
    "\n",
    "**\"What demographic factors influence median weekly earnings for software engineers in the U.S. tech industry?\"**\n",
    "\n",
    "We build on our data exploration by using statistical modeling to assess how gender, education, race, and age contribute to earnings differences.\n"
   ]
  },
  {
   "cell_type": "code",
   "execution_count": null,
   "id": "2023a43a",
   "metadata": {},
   "outputs": [],
   "source": [
    "# load libraries and dataset\n",
    "import pandas as pd\n",
    "from scipy.stats import ttest_ind, f_oneway\n",
    "from sklearn.linear_model import LinearRegression\n",
    "from sklearn.preprocessing import OneHotEncoder\n",
    "from sklearn.compose import ColumnTransformer\n",
    "from sklearn.pipeline import Pipeline\n",
    "\n",
    "df = pd.read_csv(\n",
    "    \"/Users/user/Documents/mit_stuff/CDSP_GROUP_11/ET6-CDSP-group-11-repo/1_datasets/software_engineers_employment_dataset_cleaned.csv\"\n",
    ")"
   ]
  },
  {
   "cell_type": "code",
   "execution_count": 4,
   "id": "efc82733",
   "metadata": {},
   "outputs": [
    {
     "name": "stdout",
     "output_type": "stream",
     "text": [
      "T-statistic: 20.08, p-value: 0.0000\n"
     ]
    }
   ],
   "source": [
    "# Gender based earnings (t-test)\n",
    "male = df[df[\"SEX\"] == 1][\"weekly_earnings\"]\n",
    "female = df[df[\"SEX\"] == 2][\"weekly_earnings\"]\n",
    "\n",
    "t_stat, p_val = ttest_ind(male, female, equal_var=False)\n",
    "print(f\"T-statistic: {t_stat:.2f}, p-value: {p_val:.4f}\")"
   ]
  },
  {
   "cell_type": "code",
   "execution_count": 5,
   "id": "f52ee3f2",
   "metadata": {},
   "outputs": [
    {
     "name": "stdout",
     "output_type": "stream",
     "text": [
      "F-statistic: 100.50, p-value: 0.0000\n"
     ]
    }
   ],
   "source": [
    "# Education Level Earnings (ANOVA)\n",
    "edu_groups = [group[\"weekly_earnings\"].values for _, group in df.groupby(\"EDUC\")]\n",
    "f_stat, p_val = f_oneway(*edu_groups)\n",
    "print(f\"F-statistic: {f_stat:.2f}, p-value: {p_val:.4f}\")"
   ]
  },
  {
   "cell_type": "code",
   "execution_count": 6,
   "id": "13a4ef3f",
   "metadata": {},
   "outputs": [
    {
     "name": "stdout",
     "output_type": "stream",
     "text": [
      "R² Score: 0.1107\n"
     ]
    }
   ],
   "source": [
    "# Regression\n",
    "from sklearn.model_selection import train_test_split\n",
    "from sklearn.metrics import r2_score\n",
    "\n",
    "X = df[[\"AGE\", \"SEX\", \"EDUC\", \"RACE\"]]\n",
    "y = df[\"weekly_earnings\"]\n",
    "\n",
    "# One-hot encode categorical variables\n",
    "categorical_features = [\"SEX\", \"EDUC\", \"RACE\"]\n",
    "numeric_features = [\"AGE\"]\n",
    "\n",
    "preprocessor = ColumnTransformer(\n",
    "    transformers=[\n",
    "        (\"cat\", OneHotEncoder(drop=\"first\"), categorical_features),\n",
    "        (\"num\", \"passthrough\", numeric_features),\n",
    "    ]\n",
    ")\n",
    "\n",
    "# Build pipeline\n",
    "pipeline = Pipeline(\n",
    "    steps=[(\"preprocessor\", preprocessor), (\"regressor\", LinearRegression())]\n",
    ")\n",
    "\n",
    "X_train, X_test, y_train, y_test = train_test_split(\n",
    "    X, y, test_size=0.2, random_state=42\n",
    ")\n",
    "\n",
    "pipeline.fit(X_train, y_train)\n",
    "y_pred = pipeline.predict(X_test)\n",
    "\n",
    "print(f\"R² Score: {r2_score(y_test, y_pred):.4f}\")"
   ]
  }
 ],
 "metadata": {
  "kernelspec": {
   "display_name": "Python 3",
   "language": "python",
   "name": "python3"
  },
  "language_info": {
   "codemirror_mode": {
    "name": "ipython",
    "version": 3
   },
   "file_extension": ".py",
   "mimetype": "text/x-python",
   "name": "python",
   "nbconvert_exporter": "python",
   "pygments_lexer": "ipython3",
   "version": "3.13.1"
  }
 },
 "nbformat": 4,
 "nbformat_minor": 5
}
