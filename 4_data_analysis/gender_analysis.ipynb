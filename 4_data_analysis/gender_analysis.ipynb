{
 "cells": [
  {
   "cell_type": "code",
   "execution_count": 13,
   "id": "77b43101",
   "metadata": {},
   "outputs": [],
   "source": [
    "# Import libraries and load dataset\n",
    "import pandas as pd\n",
    "import seaborn as sns\n",
    "import matplotlib.pyplot as plt\n",
    "\n",
    "# Load dataset (adjust path if local or GitHub raw link)\n",
    "df = pd.read_csv(\"software_engineers_employment_dataset_cleaned.csv\")\n",
    "\n",
    "# Preview\n",
    "df.head()\n",
    "\n",
    "# Map gender\n",
    "df[\"SEX\"] = df[\"SEX\"].map({1: \"Male\", 2: \"Female\"})"
   ]
  },
  {
   "cell_type": "code",
   "execution_count": 5,
   "id": "a0c91ef2",
   "metadata": {},
   "outputs": [
    {
     "data": {
      "text/html": [
       "<div>\n",
       "<style scoped>\n",
       "    .dataframe tbody tr th:only-of-type {\n",
       "        vertical-align: middle;\n",
       "    }\n",
       "\n",
       "    .dataframe tbody tr th {\n",
       "        vertical-align: top;\n",
       "    }\n",
       "\n",
       "    .dataframe thead th {\n",
       "        text-align: right;\n",
       "    }\n",
       "</style>\n",
       "<table border=\"1\" class=\"dataframe\">\n",
       "  <thead>\n",
       "    <tr style=\"text-align: right;\">\n",
       "      <th></th>\n",
       "      <th>mean</th>\n",
       "      <th>median</th>\n",
       "      <th>std</th>\n",
       "      <th>count</th>\n",
       "    </tr>\n",
       "    <tr>\n",
       "      <th>SEX</th>\n",
       "      <th></th>\n",
       "      <th></th>\n",
       "      <th></th>\n",
       "      <th></th>\n",
       "    </tr>\n",
       "  </thead>\n",
       "  <tbody>\n",
       "    <tr>\n",
       "      <th>Female</th>\n",
       "      <td>2201.928791</td>\n",
       "      <td>1923.08</td>\n",
       "      <td>1557.635744</td>\n",
       "      <td>5568</td>\n",
       "    </tr>\n",
       "    <tr>\n",
       "      <th>Male</th>\n",
       "      <td>2700.468700</td>\n",
       "      <td>2307.69</td>\n",
       "      <td>2011.810593</td>\n",
       "      <td>22394</td>\n",
       "    </tr>\n",
       "  </tbody>\n",
       "</table>\n",
       "</div>"
      ],
      "text/plain": [
       "               mean   median          std  count\n",
       "SEX                                             \n",
       "Female  2201.928791  1923.08  1557.635744   5568\n",
       "Male    2700.468700  2307.69  2011.810593  22394"
      ]
     },
     "execution_count": 5,
     "metadata": {},
     "output_type": "execute_result"
    }
   ],
   "source": [
    "#  Summary statistics by gender (no education split)\n",
    "gender_summary = df.groupby(\"SEX\")[\"weekly_earnings\"].agg(\n",
    "    [\"mean\", \"median\", \"std\", \"count\"]\n",
    ")\n",
    "gender_summary"
   ]
  },
  {
   "cell_type": "code",
   "execution_count": null,
   "id": "734b852a",
   "metadata": {},
   "outputs": [
    {
     "data": {
      "image/png": "[encoded data removed]",
      "text/plain": [
       "<Figure size 600x500 with 1 Axes>"
      ]
     },
     "metadata": {},
     "output_type": "display_data"
    }
   ],
   "source": [
    "# Boxplot of wages by gender\n",
    "\n",
    "plt.figure(figsize=(6, 5))\n",
    "sns.boxplot(x=\"SEX\", y=\"weekly_earnings\", data=df)\n",
    "plt.title(\"Weekly Earnings by Gender\")\n",
    "plt.show()"
   ]
  },
  {
   "cell_type": "markdown",
   "id": "f0dff210",
   "metadata": {},
   "source": [
    "## Gender Wage Differences (Boxplot Interpretation)\n",
    "\n",
    "### Observations\n",
    "1. **Central Tendency (Median)**  \n",
    "   - Median weekly earnings for **men** are higher than for **women**.  \n",
    "   - The box for men is shifted upward compared to women, indicating a gender pay gap in central earnings.\n",
    "\n",
    "2. **Spread and Distribution**  \n",
    "   - Both genders have a wide earnings range, but **men show more high-value outliers**.  \n",
    "   - The interquartile ranges (boxes) are similar, meaning overall variability is comparable, but the top end is higher for men.\n",
    "\n",
    "3. **Outliers**  \n",
    "   - Both groups have extreme high earners, yet there is a **higher concentration of very high wage outliers among men**.\n",
    "\n",
    "4. **Visual Gender Gap**  \n",
    "   - The visual difference aligns with the statistical test (**T-statistic = 20.08, p-value < 0.0001**), confirming that the gender wage gap is statistically significant.\n",
    "\n",
    "### Conclusion\n",
    "- Men, on average, earn more weekly than women in this dataset.  \n",
    "- The higher concentration of extreme male earners suggests that differences exist not just in average wages but also in top-end earnings distribution.\n"
   ]
  },
  {
   "cell_type": "code",
   "execution_count": 10,
   "id": "9c7450be",
   "metadata": {},
   "outputs": [
    {
     "name": "stdout",
     "output_type": "stream",
     "text": [
      "T-statistic: 20.08, p-value: 0.0000\n"
     ]
    }
   ],
   "source": [
    "from scipy import stats\n",
    "\n",
    "male_wages = df.loc[df[\"SEX\"] == \"Male\", \"weekly_earnings\"]\n",
    "female_wages = df.loc[df[\"SEX\"] == \"Female\", \"weekly_earnings\"]\n",
    "\n",
    "t_stat, p_val = stats.ttest_ind(\n",
    "    male_wages, female_wages, equal_var=False\n",
    ")  # Welch's t-test\n",
    "print(f\"T-statistic: {t_stat:.2f}, p-value: {p_val:.4f}\")"
   ]
  },
  {
   "cell_type": "markdown",
   "id": "b1224508",
   "metadata": {},
   "source": [
    "## Gender Wage Difference (No Education Control)\n",
    "\n",
    "- **T-statistic = 20.08, p-value < 0.0001** → The difference in weekly earnings between men and women is statistically significant.\n",
    "- Men, on average, earn **significantly more** than women in this dataset.\n",
    "- This result does **not control for education, race, age, or other factors**; it reflects the raw observed gender gap.\n"
   ]
  },
  {
   "cell_type": "code",
   "execution_count": 14,
   "id": "9d616a04",
   "metadata": {},
   "outputs": [
    {
     "name": "stdout",
     "output_type": "stream",
     "text": [
      "                            OLS Regression Results                            \n",
      "==============================================================================\n",
      "Dep. Variable:        weekly_earnings   R-squared:                       0.011\n",
      "Model:                            OLS   Adj. R-squared:                  0.010\n",
      "Method:                 Least Squares   F-statistic:                     297.6\n",
      "Date:                Tue, 29 Jul 2025   Prob (F-statistic):           2.47e-66\n",
      "Time:                        18:07:37   Log-Likelihood:            -2.5121e+05\n",
      "No. Observations:               27962   AIC:                         5.024e+05\n",
      "Df Residuals:                   27960   BIC:                         5.024e+05\n",
      "Df Model:                           1                                         \n",
      "Covariance Type:            nonrobust                                         \n",
      "==================================================================================\n",
      "                     coef    std err          t      P>|t|      [0.025      0.975]\n",
      "----------------------------------------------------------------------------------\n",
      "Intercept       2201.9288     25.864     85.136      0.000    2151.235    2252.623\n",
      "C(SEX)[T.Male]   498.5399     28.901     17.250      0.000     441.893     555.187\n",
      "==============================================================================\n",
      "Omnibus:                    17332.400   Durbin-Watson:                   1.724\n",
      "Prob(Omnibus):                  0.000   Jarque-Bera (JB):           195220.918\n",
      "Skew:                           2.868   Prob(JB):                         0.00\n",
      "Kurtosis:                      14.604   Cond. No.                         4.28\n",
      "==============================================================================\n",
      "\n",
      "Notes:\n",
      "[1] Standard Errors assume that the covariance matrix of the errors is correctly specified.\n"
     ]
    }
   ],
   "source": [
    "import statsmodels.formula.api as smf\n",
    "\n",
    "model_gender_only = smf.ols(\"weekly_earnings ~ C(SEX)\", data=df).fit()\n",
    "print(model_gender_only.summary())"
   ]
  },
  {
   "cell_type": "markdown",
   "id": "0d13443b",
   "metadata": {},
   "source": [
    "## Gender Wage Gap (No Education Control)\n",
    "\n",
    "### Key Findings\n",
    "- **Men earn on average $499 more per week than women** (**p < 0.001**).  \n",
    "- This represents roughly **23% higher earnings** for men compared to women.  \n",
    "- Gender alone explains only **~1% of the variation** in weekly earnings (**R² = 0.011**), suggesting that other factors (education, experience, location, industry) also influence wages.\n",
    "\n",
    "### Conclusion\n",
    "- There is a **statistically significant gender pay gap** in this dataset, even when not controlling for education or other variables.\n"
   ]
  },
  {
   "cell_type": "markdown",
   "id": "121ca618",
   "metadata": {},
   "source": []
  }
 ],
 "metadata": {
  "kernelspec": {
   "display_name": ".venv (3.9.6)",
   "language": "python",
   "name": "python3"
  },
  "language_info": {
   "codemirror_mode": {
    "name": "ipython",
    "version": 3
   },
   "file_extension": ".py",
   "mimetype": "text/x-python",
   "name": "python",
   "nbconvert_exporter": "python",
   "pygments_lexer": "ipython3",
   "version": "3.9.6"
  }
 },
 "nbformat": 4,
 "nbformat_minor": 5
}
