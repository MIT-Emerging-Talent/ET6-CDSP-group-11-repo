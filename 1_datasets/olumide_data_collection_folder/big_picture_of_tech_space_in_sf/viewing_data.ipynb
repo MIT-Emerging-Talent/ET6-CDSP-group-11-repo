{
 "cells": [
  {
   "cell_type": "code",
   "execution_count": null,
   "id": "64b69a02",
   "metadata": {},
   "outputs": [],
   "source": [
    "import pandas as pd\n",
    "\n",
    "df_file = pd.read_csv(\"big_picture_of_tech_space_in_sf/file.csv\")"
   ]
  },
  {
   "cell_type": "code",
   "execution_count": null,
   "id": "6efa150b",
   "metadata": {},
   "outputs": [
    {
     "data": {
      "text/plain": [
       "<bound method NDFrame.head of            Series ID  Year Period        Label  Value\n",
       "0   CXU690119LB1203M  2013    A01  2013 Annual     12\n",
       "1   CXU690119LB1203M  2014    A01  2014 Annual     11\n",
       "2   CXU690119LB1203M  2015    A01  2015 Annual     26\n",
       "3   CXU690119LB1203M  2016    A01  2016 Annual     15\n",
       "4   CXU690119LB1203M  2017    A01  2017 Annual     15\n",
       "5   CXU690119LB1203M  2018    A01  2018 Annual     16\n",
       "6   CXU690119LB1203M  2019    A01  2019 Annual     23\n",
       "7   CXU690119LB1203M  2020    A01  2020 Annual     18\n",
       "8   CXU690119LB1203M  2021    A01  2021 Annual     16\n",
       "9   CXU690119LB1203M  2022    A01  2022 Annual     28\n",
       "10  CXU690119LB1203M  2023    A01  2023 Annual     30>"
      ]
     },
     "execution_count": 4,
     "metadata": {},
     "output_type": "execute_result"
    }
   ],
   "source": [
    "df_file.head()"
   ]
  }
 ],
 "metadata": {
  "kernelspec": {
   "display_name": "Python 3",
   "language": "python",
   "name": "python3"
  },
  "language_info": {
   "codemirror_mode": {
    "name": "ipython",
    "version": 3
   },
   "file_extension": ".py",
   "mimetype": "text/x-python",
   "name": "python",
   "nbconvert_exporter": "python",
   "pygments_lexer": "ipython3",
   "version": "3.13.1"
  }
 },
 "nbformat": 4,
 "nbformat_minor": 5
}
