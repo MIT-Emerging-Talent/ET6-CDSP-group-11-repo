{
 "cells": [
  {
   "cell_type": "code",
   "execution_count": 3,
   "id": "f5ee2004",
   "metadata": {},
   "outputs": [
    {
     "name": "stdout",
     "output_type": "stream",
     "text": [
      "Current working directory: /Users/user/Documents/mit_stuff/CDSP_GROUP_11/ET6-CDSP-group-11-repo/1_datasets/olumide_data_collection_folder/annual_avg_wage\n"
     ]
    }
   ],
   "source": [
    "import os\n",
    "print(\"Current working directory:\", os.getcwd())\n"
   ]
  },
  {
   "cell_type": "code",
   "execution_count": 4,
   "id": "e2e137a2",
   "metadata": {},
   "outputs": [],
   "source": [
    "import pandas as pd"
   ]
  },
  {
   "cell_type": "code",
   "execution_count": 6,
   "id": "53e167e0",
   "metadata": {},
   "outputs": [
    {
     "name": "stdout",
     "output_type": "stream",
     "text": [
      "Loading: /Users/user/Documents/mit_stuff/CDSP_GROUP_11/ET6-CDSP-group-11-repo/1_datasets/olumide_data_collection_folder/annual_avg_wage/data/annual_avg_2020.csv\n",
      "Loading: /Users/user/Documents/mit_stuff/CDSP_GROUP_11/ET6-CDSP-group-11-repo/1_datasets/olumide_data_collection_folder/annual_avg_wage/data/annual_avg_2021.csv\n",
      "Loading: /Users/user/Documents/mit_stuff/CDSP_GROUP_11/ET6-CDSP-group-11-repo/1_datasets/olumide_data_collection_folder/annual_avg_wage/data/annual_avg_2022.csv\n",
      "Loading: /Users/user/Documents/mit_stuff/CDSP_GROUP_11/ET6-CDSP-group-11-repo/1_datasets/olumide_data_collection_folder/annual_avg_wage/data/annual_avg_2023.csv\n",
      "Loading: /Users/user/Documents/mit_stuff/CDSP_GROUP_11/ET6-CDSP-group-11-repo/1_datasets/olumide_data_collection_folder/annual_avg_wage/data/annual_avg_2024.csv\n",
      "Combined DataFrame:\n",
      "  area_fips  own_code industry_code  agglvl_code  size_code  year qtr  \\\n",
      "0     US000         0            10           10          0  2020   A   \n",
      "1     US000         1            10           11          0  2020   A   \n",
      "2     US000         1           101           12          0  2020   A   \n",
      "3     US000         1          1011           13          0  2020   A   \n",
      "4     US000         1          1012           13          0  2020   A   \n",
      "\n",
      "  disclosure_code  annual_avg_estabs  annual_avg_emplvl  ...  \\\n",
      "0             NaN           10487687          139103773  ...   \n",
      "1             NaN              61310            2928036  ...   \n",
      "2             NaN                123              54617  ...   \n",
      "3             NaN                 75               3665  ...   \n",
      "4             NaN                  1                  4  ...   \n",
      "\n",
      "   oty_total_annual_wages_chg  oty_total_annual_wages_pct_chg  \\\n",
      "0                136497892833                             1.6   \n",
      "1                 12146392526                             5.1   \n",
      "2                   212310210                             4.7   \n",
      "3                    22254175                             8.7   \n",
      "4                       14473                             2.3   \n",
      "\n",
      "   oty_taxable_annual_wages_chg  oty_taxable_annual_wages_pct_chg  \\\n",
      "0                  -51272621069                              -2.9   \n",
      "1                             0                               0.0   \n",
      "2                             0                               0.0   \n",
      "3                             0                               0.0   \n",
      "4                             0                               0.0   \n",
      "\n",
      "   oty_annual_contributions_chg oty_annual_contributions_pct_chg  \\\n",
      "0                   -3452466563                            -10.6   \n",
      "1                             0                              0.0   \n",
      "2                             0                              0.0   \n",
      "3                             0                              0.0   \n",
      "4                             0                              0.0   \n",
      "\n",
      "   oty_annual_avg_wkly_wage_chg  oty_annual_avg_wkly_wage_pct_chg  \\\n",
      "0                            92                               8.1   \n",
      "1                            23                               1.4   \n",
      "2                            48                               3.0   \n",
      "3                           124                               9.3   \n",
      "4                          1180                              73.8   \n",
      "\n",
      "   oty_avg_annual_pay_chg  oty_avg_annual_pay_pct_chg  \n",
      "0                    4812                         8.1  \n",
      "1                    1157                         1.4  \n",
      "2                    2464                         2.9  \n",
      "3                    6487                         9.3  \n",
      "4                   61339                        73.8  \n",
      "\n",
      "[5 rows x 38 columns]\n"
     ]
    }
   ],
   "source": [
    "dfs = []\n",
    "\n",
    "# Define the common path prefix once\n",
    "base_path = \"/Users/user/Documents/mit_stuff/CDSP_GROUP_11/ET6-CDSP-group-11-repo/1_datasets/olumide_data_collection_folder/annual_avg_wage/data\"\n",
    "\n",
    "for year in range(2020, 2025):\n",
    "    file_path = f\"{base_path}/annual_avg_{year}.csv\"\n",
    "    print(f\"Loading: {file_path}\")  # helpful for debugging\n",
    "    df = pd.read_csv(file_path)\n",
    "    df[\"year\"] = year\n",
    "    dfs.append(df)\n",
    "\n",
    "all_data = pd.concat(dfs, ignore_index=True)\n",
    "\n",
    "print(\"Combined DataFrame:\")\n",
    "print(all_data.head())\n"
   ]
  },
  {
   "cell_type": "code",
   "execution_count": 7,
   "id": "907d6a91",
   "metadata": {},
   "outputs": [
    {
     "name": "stdout",
     "output_type": "stream",
     "text": [
      "Column names: ['area_fips', 'own_code', 'industry_code', 'agglvl_code', 'size_code', 'year', 'qtr', 'disclosure_code', 'annual_avg_estabs', 'annual_avg_emplvl', 'total_annual_wages', 'taxable_annual_wages', 'annual_contributions', 'annual_avg_wkly_wage', 'avg_annual_pay', 'lq_disclosure_code', 'lq_annual_avg_estabs', 'lq_annual_avg_emplvl', 'lq_total_annual_wages', 'lq_taxable_annual_wages', 'lq_annual_contributions', 'lq_annual_avg_wkly_wage', 'lq_avg_annual_pay', 'oty_disclosure_code', 'oty_annual_avg_estabs_chg', 'oty_annual_avg_estabs_pct_chg', 'oty_annual_avg_emplvl_chg', 'oty_annual_avg_emplvl_pct_chg', 'oty_total_annual_wages_chg', 'oty_total_annual_wages_pct_chg', 'oty_taxable_annual_wages_chg', 'oty_taxable_annual_wages_pct_chg', 'oty_annual_contributions_chg', 'oty_annual_contributions_pct_chg', 'oty_annual_avg_wkly_wage_chg', 'oty_annual_avg_wkly_wage_pct_chg', 'oty_avg_annual_pay_chg', 'oty_avg_annual_pay_pct_chg']\n",
      "area_fips                            object\n",
      "own_code                              int64\n",
      "industry_code                        object\n",
      "agglvl_code                           int64\n",
      "size_code                             int64\n",
      "year                                  int64\n",
      "qtr                                  object\n",
      "disclosure_code                      object\n",
      "annual_avg_estabs                     int64\n",
      "annual_avg_emplvl                     int64\n",
      "total_annual_wages                    int64\n",
      "taxable_annual_wages                  int64\n",
      "annual_contributions                  int64\n",
      "annual_avg_wkly_wage                  int64\n",
      "avg_annual_pay                        int64\n",
      "lq_disclosure_code                   object\n",
      "lq_annual_avg_estabs                float64\n",
      "lq_annual_avg_emplvl                float64\n",
      "lq_total_annual_wages               float64\n",
      "lq_taxable_annual_wages             float64\n",
      "lq_annual_contributions             float64\n",
      "lq_annual_avg_wkly_wage             float64\n",
      "lq_avg_annual_pay                   float64\n",
      "oty_disclosure_code                  object\n",
      "oty_annual_avg_estabs_chg             int64\n",
      "oty_annual_avg_estabs_pct_chg       float64\n",
      "oty_annual_avg_emplvl_chg             int64\n",
      "oty_annual_avg_emplvl_pct_chg       float64\n",
      "oty_total_annual_wages_chg            int64\n",
      "oty_total_annual_wages_pct_chg      float64\n",
      "oty_taxable_annual_wages_chg          int64\n",
      "oty_taxable_annual_wages_pct_chg    float64\n",
      "oty_annual_contributions_chg          int64\n",
      "oty_annual_contributions_pct_chg    float64\n",
      "oty_annual_avg_wkly_wage_chg          int64\n",
      "oty_annual_avg_wkly_wage_pct_chg    float64\n",
      "oty_avg_annual_pay_chg                int64\n",
      "oty_avg_annual_pay_pct_chg          float64\n",
      "dtype: object\n"
     ]
    }
   ],
   "source": [
    "print(\"Column names:\", all_data.columns.tolist())\n",
    "print(all_data.dtypes)\n"
   ]
  },
  {
   "cell_type": "code",
   "execution_count": 8,
   "id": "0c1b184c",
   "metadata": {},
   "outputs": [
    {
     "name": "stdout",
     "output_type": "stream",
     "text": [
      "area_fips                               0\n",
      "own_code                                0\n",
      "industry_code                           0\n",
      "agglvl_code                             0\n",
      "size_code                               0\n",
      "year                                    0\n",
      "qtr                                     0\n",
      "disclosure_code                     19202\n",
      "annual_avg_estabs                       0\n",
      "annual_avg_emplvl                       0\n",
      "total_annual_wages                      0\n",
      "taxable_annual_wages                    0\n",
      "annual_contributions                    0\n",
      "annual_avg_wkly_wage                    0\n",
      "avg_annual_pay                          0\n",
      "lq_disclosure_code                  19202\n",
      "lq_annual_avg_estabs                    0\n",
      "lq_annual_avg_emplvl                    0\n",
      "lq_total_annual_wages                   0\n",
      "lq_taxable_annual_wages                 0\n",
      "lq_annual_contributions                 0\n",
      "lq_annual_avg_wkly_wage                 0\n",
      "lq_avg_annual_pay                       0\n",
      "oty_disclosure_code                 18343\n",
      "oty_annual_avg_estabs_chg               0\n",
      "oty_annual_avg_estabs_pct_chg           0\n",
      "oty_annual_avg_emplvl_chg               0\n",
      "oty_annual_avg_emplvl_pct_chg           0\n",
      "oty_total_annual_wages_chg              0\n",
      "oty_total_annual_wages_pct_chg          0\n",
      "oty_taxable_annual_wages_chg            0\n",
      "oty_taxable_annual_wages_pct_chg        0\n",
      "oty_annual_contributions_chg            0\n",
      "oty_annual_contributions_pct_chg        0\n",
      "oty_annual_avg_wkly_wage_chg            0\n",
      "oty_annual_avg_wkly_wage_pct_chg        0\n",
      "oty_avg_annual_pay_chg                  0\n",
      "oty_avg_annual_pay_pct_chg              0\n",
      "dtype: int64\n"
     ]
    }
   ],
   "source": [
    "print(all_data.isnull().sum())\n"
   ]
  },
  {
   "cell_type": "code",
   "execution_count": 9,
   "id": "a74bfa61",
   "metadata": {},
   "outputs": [
    {
     "name": "stdout",
     "output_type": "stream",
     "text": [
      "year\n",
      "2020    4547\n",
      "2021    4540\n",
      "2022    4464\n",
      "2023    4531\n",
      "2024    4524\n",
      "Name: count, dtype: int64\n"
     ]
    }
   ],
   "source": [
    "print(all_data[\"year\"].value_counts().sort_index())\n"
   ]
  },
  {
   "cell_type": "code",
   "execution_count": 10,
   "id": "05555733",
   "metadata": {},
   "outputs": [],
   "source": [
    "columns_to_keep = [\n",
    "    \"year\",\n",
    "    \"annual_avg_estabs\",\n",
    "    \"annual_avg_emplvl\",\n",
    "    \"annual_avg_wkly_wage\"\n",
    "]\n"
   ]
  },
  {
   "cell_type": "code",
   "execution_count": 11,
   "id": "8699fec1",
   "metadata": {},
   "outputs": [],
   "source": [
    "cleaned_data = all_data[columns_to_keep].copy()\n"
   ]
  },
  {
   "cell_type": "code",
   "execution_count": 12,
   "id": "15d97f4b",
   "metadata": {},
   "outputs": [
    {
     "name": "stdout",
     "output_type": "stream",
     "text": [
      "   year  annual_avg_estabs  annual_avg_emplvl  annual_avg_wkly_wage\n",
      "0  2020           10487687          139103773                  1231\n",
      "1  2020              61310            2928036                  1644\n",
      "2  2020                123              54617                  1663\n",
      "3  2020                 75               3665                  1459\n",
      "4  2020                  1                  4                  2779\n",
      "Remaining columns: ['year', 'annual_avg_estabs', 'annual_avg_emplvl', 'annual_avg_wkly_wage']\n"
     ]
    }
   ],
   "source": [
    "print(cleaned_data.head())\n",
    "print(\"Remaining columns:\", cleaned_data.columns.tolist())\n"
   ]
  },
  {
   "cell_type": "code",
   "execution_count": 13,
   "id": "3387a145",
   "metadata": {},
   "outputs": [
    {
     "name": "stdout",
     "output_type": "stream",
     "text": [
      "Cleaned data saved as cleaned_qcew_data.csv\n"
     ]
    }
   ],
   "source": [
    "cleaned_data.to_csv(\"cleaned_qcew_data.csv\", index=False)\n",
    "print(\"Cleaned data saved as cleaned_qcew_data.csv\")\n"
   ]
  },
  {
   "cell_type": "code",
   "execution_count": 14,
   "id": "d473f92e",
   "metadata": {},
   "outputs": [
    {
     "name": "stdout",
     "output_type": "stream",
     "text": [
      "Null values in cleaned data:\n",
      " year                    0\n",
      "annual_avg_estabs       0\n",
      "annual_avg_emplvl       0\n",
      "annual_avg_wkly_wage    0\n",
      "dtype: int64\n"
     ]
    }
   ],
   "source": [
    "# Check for missing (NaN) values in each column\n",
    "null_counts = cleaned_data.isnull().sum()\n",
    "print(\"Null values in cleaned data:\\n\", null_counts)\n"
   ]
  }
 ],
 "metadata": {
  "kernelspec": {
   "display_name": "Python 3",
   "language": "python",
   "name": "python3"
  },
  "language_info": {
   "codemirror_mode": {
    "name": "ipython",
    "version": 3
   },
   "file_extension": ".py",
   "mimetype": "text/x-python",
   "name": "python",
   "nbconvert_exporter": "python",
   "pygments_lexer": "ipython3",
   "version": "3.13.1"
  }
 },
 "nbformat": 4,
 "nbformat_minor": 5
}
